{
 "cells": [
  {
   "cell_type": "markdown",
   "metadata": {},
   "source": [
    "## Data Collection\n"
   ]
  },
  {
   "cell_type": "markdown",
   "metadata": {},
   "source": [
    "In this phase we will collect the customer ratings data from the airline quality website called Skytrax. We will collect data about airline ratings, seat ratings and lounge experience ratings from this website.\n"
   ]
  },
  {
   "cell_type": "code",
   "execution_count": 59,
   "metadata": {},
   "outputs": [],
   "source": [
    "# Imports all the libraries\n",
    "\n",
    "import os\n",
    "import pandas as pd\n",
    "import numpy as np\n",
    "from bs4 import BeautifulSoup\n",
    "import requests"
   ]
  },
  {
   "cell_type": "code",
   "execution_count": 3,
   "metadata": {},
   "outputs": [],
   "source": [
    "# Create an empty list to collect all the reviews\n",
    "reviews = []\n",
    "\n",
    "# Create an empty list to collect all the rating stars\n",
    "star = []\n",
    "\n",
    "# Create an empty list to collect all the data\n",
    "date = []\n",
    "\n",
    "# Create an empty list to collect all the country reviewrs is from\n",
    "country = []"
   ]
  },
  {
   "cell_type": "code",
   "execution_count": 27,
   "metadata": {},
   "outputs": [
    {
     "name": "stdout",
     "output_type": "stream",
     "text": [
      "Error in page 32\n",
      "Error in page 34\n",
      "Error in page 34\n"
     ]
    }
   ],
   "source": [
    "base_url = \"https://www.airlinequality.com/airline-reviews/british-airways\"\n",
    "page_size = 100\n",
    "\n",
    "for i in range(1, 36):\n",
    "    url = f\"{base_url}/page/{i}/?sortby=post_date%3ADesc&pagesize={page_size}\"\n",
    "    page = requests.get(url)\n",
    "\n",
    "    soup = BeautifulSoup(page.content, \"html5\")\n",
    "\n",
    "    # Pharse content\n",
    "    content = page.content\n",
    "    parsed_content = BeautifulSoup(content, \"html.parser\")\n",
    "    for para in parsed_content.find_all(\"div\", {\"class\": \"text_content\"}):\n",
    "        reviews.append(para.get_text())\n",
    "\n",
    "    for item in soup.find_all(\"div\", class_=\"rating-10\"):\n",
    "        try:\n",
    "            star.append(item.span.text)\n",
    "        except:\n",
    "            print(f\"Error in page {i}\")\n",
    "            star.append(\"None\")\n",
    "\n",
    "    # Date\n",
    "    for item in soup.find_all(\"time\"):\n",
    "        date.append(item.text)\n",
    "\n",
    "    # Country\n",
    "    for item in soup.find_all(\"h3\"):\n",
    "        country.append(item.span.next_sibling.text.strip(\" ()\"))"
   ]
  },
  {
   "cell_type": "code",
   "execution_count": 38,
   "metadata": {},
   "outputs": [
    {
     "name": "stdout",
     "output_type": "stream",
     "text": [
      "3500 3500 7000 7000\n"
     ]
    }
   ],
   "source": [
    "# It shows how many reviews,star,date,country\n",
    "print(len(reviews), len(star), len(date), len(country))"
   ]
  },
  {
   "cell_type": "code",
   "execution_count": 39,
   "metadata": {},
   "outputs": [
    {
     "data": {
      "text/plain": [
       "3500"
      ]
     },
     "execution_count": 39,
     "metadata": {},
     "output_type": "execute_result"
    }
   ],
   "source": [
    "# Check the length of total review extracted\n",
    "len(reviews)"
   ]
  },
  {
   "cell_type": "code",
   "execution_count": 40,
   "metadata": {},
   "outputs": [
    {
     "data": {
      "text/plain": [
       "7000"
      ]
     },
     "execution_count": 40,
     "metadata": {},
     "output_type": "execute_result"
    }
   ],
   "source": [
    "len(country)"
   ]
  },
  {
   "cell_type": "code",
   "execution_count": 55,
   "metadata": {},
   "outputs": [
    {
     "name": "stdout",
     "output_type": "stream",
     "text": [
      "Warning: Lengths of lists are not equal. DataFrame created using only common elements.\n"
     ]
    }
   ],
   "source": [
    "import pandas as pd\n",
    "\n",
    "# Check if lengths of all lists are equal\n",
    "if len(reviews) == len(star) == len(date) == len(country):\n",
    "    # Create DataFrame\n",
    "    df = pd.DataFrame(\n",
    "        {\"reviews\": reviews, \"star\": star, \"date\": date, \"country\": country}\n",
    "    )\n",
    "else:\n",
    "    # Determine the minimum length among all lists\n",
    "    min_length = min(len(reviews), len(star), len(date), len(country))\n",
    "\n",
    "    # Create DataFrame using only the first 'min_length' elements of each list\n",
    "    df = pd.DataFrame(\n",
    "        {\n",
    "            \"reviews\": reviews[:min_length],\n",
    "            \"star\": star[:min_length],\n",
    "            \"date\": date[:min_length],\n",
    "            \"country\": country[:min_length],\n",
    "        }\n",
    "    )\n",
    "    print(\n",
    "        \"Warning: Lengths of lists are not equal. DataFrame created using only common elements.\"\n",
    "    )"
   ]
  },
  {
   "cell_type": "code",
   "execution_count": 56,
   "metadata": {},
   "outputs": [
    {
     "data": {
      "text/html": [
       "<div>\n",
       "<style scoped>\n",
       "    .dataframe tbody tr th:only-of-type {\n",
       "        vertical-align: middle;\n",
       "    }\n",
       "\n",
       "    .dataframe tbody tr th {\n",
       "        vertical-align: top;\n",
       "    }\n",
       "\n",
       "    .dataframe thead th {\n",
       "        text-align: right;\n",
       "    }\n",
       "</style>\n",
       "<table border=\"1\" class=\"dataframe\">\n",
       "  <thead>\n",
       "    <tr style=\"text-align: right;\">\n",
       "      <th></th>\n",
       "      <th>reviews</th>\n",
       "      <th>star</th>\n",
       "      <th>date</th>\n",
       "      <th>country</th>\n",
       "    </tr>\n",
       "  </thead>\n",
       "  <tbody>\n",
       "    <tr>\n",
       "      <th>0</th>\n",
       "      <td>✅ Trip Verified |  Boarding was difficult caus...</td>\n",
       "      <td>\\n\\t\\t\\t\\t\\t\\t\\t\\t\\t\\t\\t\\t\\t5</td>\n",
       "      <td>14th March 2024</td>\n",
       "      <td>Belgium</td>\n",
       "    </tr>\n",
       "    <tr>\n",
       "      <th>1</th>\n",
       "      <td>✅ Trip Verified |  Boarding started with a del...</td>\n",
       "      <td>7</td>\n",
       "      <td>14th March 2024</td>\n",
       "      <td>Belgium</td>\n",
       "    </tr>\n",
       "    <tr>\n",
       "      <th>2</th>\n",
       "      <td>✅ Trip Verified |  Absolutely horrible custome...</td>\n",
       "      <td>3</td>\n",
       "      <td>12th March 2024</td>\n",
       "      <td>Canada</td>\n",
       "    </tr>\n",
       "    <tr>\n",
       "      <th>3</th>\n",
       "      <td>Not Verified |  BA is not what it used to be! ...</td>\n",
       "      <td>1</td>\n",
       "      <td>11th March 2024</td>\n",
       "      <td>Denmark</td>\n",
       "    </tr>\n",
       "    <tr>\n",
       "      <th>4</th>\n",
       "      <td>✅ Trip Verified |  BA First, it's not even the...</td>\n",
       "      <td>7</td>\n",
       "      <td>10th March 2024</td>\n",
       "      <td>United Kingdom</td>\n",
       "    </tr>\n",
       "  </tbody>\n",
       "</table>\n",
       "</div>"
      ],
      "text/plain": [
       "                                             reviews  \\\n",
       "0  ✅ Trip Verified |  Boarding was difficult caus...   \n",
       "1  ✅ Trip Verified |  Boarding started with a del...   \n",
       "2  ✅ Trip Verified |  Absolutely horrible custome...   \n",
       "3  Not Verified |  BA is not what it used to be! ...   \n",
       "4  ✅ Trip Verified |  BA First, it's not even the...   \n",
       "\n",
       "                            star             date         country  \n",
       "0  \\n\\t\\t\\t\\t\\t\\t\\t\\t\\t\\t\\t\\t\\t5  14th March 2024         Belgium  \n",
       "1                              7  14th March 2024         Belgium  \n",
       "2                              3  12th March 2024          Canada  \n",
       "3                              1  11th March 2024         Denmark  \n",
       "4                              7  10th March 2024  United Kingdom  "
      ]
     },
     "execution_count": 56,
     "metadata": {},
     "output_type": "execute_result"
    }
   ],
   "source": [
    "df.head()"
   ]
  },
  {
   "cell_type": "code",
   "execution_count": 61,
   "metadata": {},
   "outputs": [
    {
     "data": {
      "text/plain": [
       "(3500, 4)"
      ]
     },
     "execution_count": 61,
     "metadata": {},
     "output_type": "execute_result"
    }
   ],
   "source": [
    "# To check the shape of the dataframe\n",
    "df.shape"
   ]
  },
  {
   "cell_type": "code",
   "execution_count": 60,
   "metadata": {},
   "outputs": [],
   "source": [
    "# Export data into csv formate\n",
    "\n",
    "cwd = os.getcwd()\n",
    "df.to_csv(cwd + \"/BA_reviews.csv\")"
   ]
  }
 ],
 "metadata": {
  "kernelspec": {
   "display_name": ".venv",
   "language": "python",
   "name": "python3"
  },
  "language_info": {
   "codemirror_mode": {
    "name": "ipython",
    "version": 3
   },
   "file_extension": ".py",
   "mimetype": "text/x-python",
   "name": "python",
   "nbconvert_exporter": "python",
   "pygments_lexer": "ipython3",
   "version": "3.9.13"
  }
 },
 "nbformat": 4,
 "nbformat_minor": 2
}
