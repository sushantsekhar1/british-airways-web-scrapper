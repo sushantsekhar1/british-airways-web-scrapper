{
 "cells": [
  {
   "cell_type": "markdown",
   "metadata": {},
   "source": [
    "## Data Cleaning\n"
   ]
  },
  {
   "cell_type": "markdown",
   "metadata": {},
   "source": [
    "Now,we have extract data from the websites, it is not cleaned and ready to analyzed the data for the cleaning process.\n"
   ]
  },
  {
   "cell_type": "code",
   "execution_count": 104,
   "metadata": {},
   "outputs": [],
   "source": [
    "# Import all the library\n",
    "\n",
    "import pandas as pd\n",
    "import matplotlib.pyplot as plt\n",
    "import seaborn as sns\n",
    "import os\n",
    "import re\n"
   ]
  },
  {
   "cell_type": "code",
   "execution_count": 105,
   "metadata": {},
   "outputs": [],
   "source": [
    "# To read csv file and import in df\n",
    "df = pd.read_csv(\n",
    "    \"/Users/sushant/Downloads/British-Airways-Review-Scrapper/Data Cleaning/Old_BA_reviews.csv\"\n",
    ")"
   ]
  },
  {
   "cell_type": "code",
   "execution_count": 106,
   "metadata": {},
   "outputs": [
    {
     "data": {
      "text/html": [
       "<div>\n",
       "<style scoped>\n",
       "    .dataframe tbody tr th:only-of-type {\n",
       "        vertical-align: middle;\n",
       "    }\n",
       "\n",
       "    .dataframe tbody tr th {\n",
       "        vertical-align: top;\n",
       "    }\n",
       "\n",
       "    .dataframe thead th {\n",
       "        text-align: right;\n",
       "    }\n",
       "</style>\n",
       "<table border=\"1\" class=\"dataframe\">\n",
       "  <thead>\n",
       "    <tr style=\"text-align: right;\">\n",
       "      <th></th>\n",
       "      <th>Unnamed: 0</th>\n",
       "      <th>reviews</th>\n",
       "      <th>star</th>\n",
       "      <th>date</th>\n",
       "      <th>country</th>\n",
       "    </tr>\n",
       "  </thead>\n",
       "  <tbody>\n",
       "    <tr>\n",
       "      <th>0</th>\n",
       "      <td>0</td>\n",
       "      <td>✅ Trip Verified |  Boarding was difficult caus...</td>\n",
       "      <td>\\n\\t\\t\\t\\t\\t\\t\\t\\t\\t\\t\\t\\t\\t5</td>\n",
       "      <td>14th March 2024</td>\n",
       "      <td>Belgium</td>\n",
       "    </tr>\n",
       "    <tr>\n",
       "      <th>1</th>\n",
       "      <td>1</td>\n",
       "      <td>✅ Trip Verified |  Boarding started with a del...</td>\n",
       "      <td>7</td>\n",
       "      <td>14th March 2024</td>\n",
       "      <td>Belgium</td>\n",
       "    </tr>\n",
       "    <tr>\n",
       "      <th>2</th>\n",
       "      <td>2</td>\n",
       "      <td>✅ Trip Verified |  Absolutely horrible custome...</td>\n",
       "      <td>3</td>\n",
       "      <td>12th March 2024</td>\n",
       "      <td>Canada</td>\n",
       "    </tr>\n",
       "    <tr>\n",
       "      <th>3</th>\n",
       "      <td>3</td>\n",
       "      <td>Not Verified |  BA is not what it used to be! ...</td>\n",
       "      <td>1</td>\n",
       "      <td>11th March 2024</td>\n",
       "      <td>Denmark</td>\n",
       "    </tr>\n",
       "    <tr>\n",
       "      <th>4</th>\n",
       "      <td>4</td>\n",
       "      <td>✅ Trip Verified |  BA First, it's not even the...</td>\n",
       "      <td>7</td>\n",
       "      <td>10th March 2024</td>\n",
       "      <td>United Kingdom</td>\n",
       "    </tr>\n",
       "  </tbody>\n",
       "</table>\n",
       "</div>"
      ],
      "text/plain": [
       "   Unnamed: 0                                            reviews  \\\n",
       "0           0  ✅ Trip Verified |  Boarding was difficult caus...   \n",
       "1           1  ✅ Trip Verified |  Boarding started with a del...   \n",
       "2           2  ✅ Trip Verified |  Absolutely horrible custome...   \n",
       "3           3  Not Verified |  BA is not what it used to be! ...   \n",
       "4           4  ✅ Trip Verified |  BA First, it's not even the...   \n",
       "\n",
       "                            star             date         country  \n",
       "0  \\n\\t\\t\\t\\t\\t\\t\\t\\t\\t\\t\\t\\t\\t5  14th March 2024         Belgium  \n",
       "1                              7  14th March 2024         Belgium  \n",
       "2                              3  12th March 2024          Canada  \n",
       "3                              1  11th March 2024         Denmark  \n",
       "4                              7  10th March 2024  United Kingdom  "
      ]
     },
     "execution_count": 106,
     "metadata": {},
     "output_type": "execute_result"
    }
   ],
   "source": [
    "# To check top 5 dataframe\n",
    "df.head()"
   ]
  },
  {
   "cell_type": "code",
   "execution_count": 107,
   "metadata": {},
   "outputs": [
    {
     "data": {
      "text/html": [
       "<div>\n",
       "<style scoped>\n",
       "    .dataframe tbody tr th:only-of-type {\n",
       "        vertical-align: middle;\n",
       "    }\n",
       "\n",
       "    .dataframe tbody tr th {\n",
       "        vertical-align: top;\n",
       "    }\n",
       "\n",
       "    .dataframe thead th {\n",
       "        text-align: right;\n",
       "    }\n",
       "</style>\n",
       "<table border=\"1\" class=\"dataframe\">\n",
       "  <thead>\n",
       "    <tr style=\"text-align: right;\">\n",
       "      <th></th>\n",
       "      <th>Unnamed: 0</th>\n",
       "      <th>reviews</th>\n",
       "      <th>star</th>\n",
       "      <th>date</th>\n",
       "      <th>country</th>\n",
       "    </tr>\n",
       "  </thead>\n",
       "  <tbody>\n",
       "    <tr>\n",
       "      <th>3495</th>\n",
       "      <td>3495</td>\n",
       "      <td>LGW-MCO-SEA-LHR. Seats booked during Club Worl...</td>\n",
       "      <td>8</td>\n",
       "      <td>17th September 2014</td>\n",
       "      <td>United Kingdom</td>\n",
       "    </tr>\n",
       "    <tr>\n",
       "      <th>3496</th>\n",
       "      <td>3496</td>\n",
       "      <td>I have flown LHR-BKK many times with EVA Emira...</td>\n",
       "      <td>1</td>\n",
       "      <td>17th September 2014</td>\n",
       "      <td>South Africa</td>\n",
       "    </tr>\n",
       "    <tr>\n",
       "      <th>3497</th>\n",
       "      <td>3497</td>\n",
       "      <td>LHR-EDI Used Avios to make short break to Edin...</td>\n",
       "      <td>6</td>\n",
       "      <td>14th September 2014</td>\n",
       "      <td>United Kingdom</td>\n",
       "    </tr>\n",
       "    <tr>\n",
       "      <th>3498</th>\n",
       "      <td>3498</td>\n",
       "      <td>Flew VIE to LHR Club Europe fantastic crew loo...</td>\n",
       "      <td>8</td>\n",
       "      <td>14th September 2014</td>\n",
       "      <td>United Kingdom</td>\n",
       "    </tr>\n",
       "    <tr>\n",
       "      <th>3499</th>\n",
       "      <td>3499</td>\n",
       "      <td>First and last time flying with BA upgraded th...</td>\n",
       "      <td>7</td>\n",
       "      <td>14th September 2014</td>\n",
       "      <td>United Kingdom</td>\n",
       "    </tr>\n",
       "  </tbody>\n",
       "</table>\n",
       "</div>"
      ],
      "text/plain": [
       "      Unnamed: 0                                            reviews star  \\\n",
       "3495        3495  LGW-MCO-SEA-LHR. Seats booked during Club Worl...    8   \n",
       "3496        3496  I have flown LHR-BKK many times with EVA Emira...    1   \n",
       "3497        3497  LHR-EDI Used Avios to make short break to Edin...    6   \n",
       "3498        3498  Flew VIE to LHR Club Europe fantastic crew loo...    8   \n",
       "3499        3499  First and last time flying with BA upgraded th...    7   \n",
       "\n",
       "                     date         country  \n",
       "3495  17th September 2014  United Kingdom  \n",
       "3496  17th September 2014    South Africa  \n",
       "3497  14th September 2014  United Kingdom  \n",
       "3498  14th September 2014  United Kingdom  \n",
       "3499  14th September 2014  United Kingdom  "
      ]
     },
     "execution_count": 107,
     "metadata": {},
     "output_type": "execute_result"
    }
   ],
   "source": [
    "# To check bottom 5 dataframe\n",
    "df.tail()"
   ]
  },
  {
   "cell_type": "code",
   "execution_count": 108,
   "metadata": {},
   "outputs": [],
   "source": [
    "# create a column which mention as Trip Verifed\n",
    "\n",
    "df[\"verified\"] = df.reviews.str.contains(\"✅ Trip Verified \")"
   ]
  },
  {
   "cell_type": "code",
   "execution_count": 109,
   "metadata": {},
   "outputs": [
    {
     "data": {
      "text/plain": [
       "0        True\n",
       "1        True\n",
       "2        True\n",
       "3       False\n",
       "4        True\n",
       "        ...  \n",
       "3495    False\n",
       "3496    False\n",
       "3497    False\n",
       "3498    False\n",
       "3499    False\n",
       "Name: verified, Length: 3500, dtype: bool"
      ]
     },
     "execution_count": 109,
     "metadata": {},
     "output_type": "execute_result"
    }
   ],
   "source": [
    "df[\"verified\"]"
   ]
  },
  {
   "cell_type": "markdown",
   "metadata": {},
   "source": [
    "**_Cleaning Reviews Columns_**\n"
   ]
  },
  {
   "cell_type": "markdown",
   "metadata": {},
   "source": [
    "We can extract column of the reviews into sepereate dataframe and clear it for sementic analysis\n"
   ]
  },
  {
   "cell_type": "code",
   "execution_count": 110,
   "metadata": {},
   "outputs": [
    {
     "name": "stderr",
     "output_type": "stream",
     "text": [
      "[nltk_data] Downloading package stopwords to\n",
      "[nltk_data]     /Users/sushant/nltk_data...\n",
      "[nltk_data]   Package stopwords is already up-to-date!\n",
      "[nltk_data] Downloading package wordnet to /Users/sushant/nltk_data...\n",
      "[nltk_data]   Package wordnet is already up-to-date!\n",
      "[nltk_data] Downloading package omw-1.4 to /Users/sushant/nltk_data...\n",
      "[nltk_data]   Package omw-1.4 is already up-to-date!\n"
     ]
    }
   ],
   "source": [
    "# for lemmatization of words we will use nltk\n",
    "import nltk\n",
    "from nltk.stem import WordNetLemmatizer\n",
    "from nltk.corpus import stopwords\n",
    "\n",
    "nltk.download(\"stopwords\")\n",
    "nltk.download(\"wordnet\")\n",
    "nltk.download(\"omw-1.4\")\n",
    "lemma = WordNetLemmatizer()\n",
    "\n",
    "\n",
    "rev_data = df.reviews.str.strip(\"✅ Trip Verified |\")\n",
    "\n",
    "# To create a empty list to collect cleaned data\n",
    "\n",
    "corpus = []\n",
    "\n",
    "# Loops through each reviews, remote punctuations, small case it, join it and add it to corpus\n",
    "for rev in rev_data:\n",
    "    rev = re.sub(\"[^a-z A-Z]\", \" \", rev)\n",
    "    rev = rev.lower()\n",
    "    rev = rev.split()\n",
    "    rev = [\n",
    "        lemma.lemmatize(word)\n",
    "        for word in rev\n",
    "        if word not in set(stopwords.words(\"english\"))\n",
    "    ]\n",
    "    rev = \" \".join(rev)\n",
    "    corpus.append(rev)"
   ]
  },
  {
   "cell_type": "code",
   "execution_count": 111,
   "metadata": {},
   "outputs": [],
   "source": [
    "# Add corpus in original dataframe\n",
    "\n",
    "df[\"corpus\"] = corpus"
   ]
  },
  {
   "cell_type": "code",
   "execution_count": 112,
   "metadata": {},
   "outputs": [
    {
     "data": {
      "text/html": [
       "<div>\n",
       "<style scoped>\n",
       "    .dataframe tbody tr th:only-of-type {\n",
       "        vertical-align: middle;\n",
       "    }\n",
       "\n",
       "    .dataframe tbody tr th {\n",
       "        vertical-align: top;\n",
       "    }\n",
       "\n",
       "    .dataframe thead th {\n",
       "        text-align: right;\n",
       "    }\n",
       "</style>\n",
       "<table border=\"1\" class=\"dataframe\">\n",
       "  <thead>\n",
       "    <tr style=\"text-align: right;\">\n",
       "      <th></th>\n",
       "      <th>Unnamed: 0</th>\n",
       "      <th>reviews</th>\n",
       "      <th>star</th>\n",
       "      <th>date</th>\n",
       "      <th>country</th>\n",
       "      <th>verified</th>\n",
       "      <th>corpus</th>\n",
       "    </tr>\n",
       "  </thead>\n",
       "  <tbody>\n",
       "    <tr>\n",
       "      <th>0</th>\n",
       "      <td>0</td>\n",
       "      <td>✅ Trip Verified |  Boarding was difficult caus...</td>\n",
       "      <td>\\n\\t\\t\\t\\t\\t\\t\\t\\t\\t\\t\\t\\t\\t5</td>\n",
       "      <td>14th March 2024</td>\n",
       "      <td>Belgium</td>\n",
       "      <td>True</td>\n",
       "      <td>boarding difficult caused vast majority passen...</td>\n",
       "    </tr>\n",
       "    <tr>\n",
       "      <th>1</th>\n",
       "      <td>1</td>\n",
       "      <td>✅ Trip Verified |  Boarding started with a del...</td>\n",
       "      <td>7</td>\n",
       "      <td>14th March 2024</td>\n",
       "      <td>Belgium</td>\n",
       "      <td>True</td>\n",
       "      <td>boarding started delay minute everybody could ...</td>\n",
       "    </tr>\n",
       "    <tr>\n",
       "      <th>2</th>\n",
       "      <td>2</td>\n",
       "      <td>✅ Trip Verified |  Absolutely horrible custome...</td>\n",
       "      <td>3</td>\n",
       "      <td>12th March 2024</td>\n",
       "      <td>Canada</td>\n",
       "      <td>True</td>\n",
       "      <td>absolutely horrible customer service never fly...</td>\n",
       "    </tr>\n",
       "    <tr>\n",
       "      <th>3</th>\n",
       "      <td>3</td>\n",
       "      <td>Not Verified |  BA is not what it used to be! ...</td>\n",
       "      <td>1</td>\n",
       "      <td>11th March 2024</td>\n",
       "      <td>Denmark</td>\n",
       "      <td>False</td>\n",
       "      <td>verified ba used much like onboard crew check ...</td>\n",
       "    </tr>\n",
       "    <tr>\n",
       "      <th>4</th>\n",
       "      <td>4</td>\n",
       "      <td>✅ Trip Verified |  BA First, it's not even the...</td>\n",
       "      <td>7</td>\n",
       "      <td>10th March 2024</td>\n",
       "      <td>United Kingdom</td>\n",
       "      <td>True</td>\n",
       "      <td>ba first even best business class sky cabin lo...</td>\n",
       "    </tr>\n",
       "    <tr>\n",
       "      <th>5</th>\n",
       "      <td>5</td>\n",
       "      <td>✅ Trip Verified |  The worst business class ex...</td>\n",
       "      <td>1</td>\n",
       "      <td>5th March 2024</td>\n",
       "      <td>Australia</td>\n",
       "      <td>True</td>\n",
       "      <td>worst business class experience ground crew si...</td>\n",
       "    </tr>\n",
       "    <tr>\n",
       "      <th>6</th>\n",
       "      <td>6</td>\n",
       "      <td>Not Verified |  Quite possibly the worst busin...</td>\n",
       "      <td>3</td>\n",
       "      <td>4th March 2024</td>\n",
       "      <td>Canada</td>\n",
       "      <td>False</td>\n",
       "      <td>verified quite possibly worst business class e...</td>\n",
       "    </tr>\n",
       "    <tr>\n",
       "      <th>7</th>\n",
       "      <td>7</td>\n",
       "      <td>Not Verified |  I will never be flying with BA...</td>\n",
       "      <td>1</td>\n",
       "      <td>4th March 2024</td>\n",
       "      <td>Singapore</td>\n",
       "      <td>False</td>\n",
       "      <td>verified never flying ba first last flying sin...</td>\n",
       "    </tr>\n",
       "    <tr>\n",
       "      <th>8</th>\n",
       "      <td>8</td>\n",
       "      <td>✅ Trip Verified |  On the my trip to Mexico Ci...</td>\n",
       "      <td>1</td>\n",
       "      <td>4th March 2024</td>\n",
       "      <td>United Kingdom</td>\n",
       "      <td>True</td>\n",
       "      <td>trip mexico city opportunity experience ba lon...</td>\n",
       "    </tr>\n",
       "    <tr>\n",
       "      <th>9</th>\n",
       "      <td>9</td>\n",
       "      <td>✅ Trip Verified |  I upgraded at check in to C...</td>\n",
       "      <td>3</td>\n",
       "      <td>2nd March 2024</td>\n",
       "      <td>United Kingdom</td>\n",
       "      <td>True</td>\n",
       "      <td>upgraded check club europe seat excellent expe...</td>\n",
       "    </tr>\n",
       "  </tbody>\n",
       "</table>\n",
       "</div>"
      ],
      "text/plain": [
       "   Unnamed: 0                                            reviews  \\\n",
       "0           0  ✅ Trip Verified |  Boarding was difficult caus...   \n",
       "1           1  ✅ Trip Verified |  Boarding started with a del...   \n",
       "2           2  ✅ Trip Verified |  Absolutely horrible custome...   \n",
       "3           3  Not Verified |  BA is not what it used to be! ...   \n",
       "4           4  ✅ Trip Verified |  BA First, it's not even the...   \n",
       "5           5  ✅ Trip Verified |  The worst business class ex...   \n",
       "6           6  Not Verified |  Quite possibly the worst busin...   \n",
       "7           7  Not Verified |  I will never be flying with BA...   \n",
       "8           8  ✅ Trip Verified |  On the my trip to Mexico Ci...   \n",
       "9           9  ✅ Trip Verified |  I upgraded at check in to C...   \n",
       "\n",
       "                            star             date         country  verified  \\\n",
       "0  \\n\\t\\t\\t\\t\\t\\t\\t\\t\\t\\t\\t\\t\\t5  14th March 2024         Belgium      True   \n",
       "1                              7  14th March 2024         Belgium      True   \n",
       "2                              3  12th March 2024          Canada      True   \n",
       "3                              1  11th March 2024         Denmark     False   \n",
       "4                              7  10th March 2024  United Kingdom      True   \n",
       "5                              1   5th March 2024       Australia      True   \n",
       "6                              3   4th March 2024          Canada     False   \n",
       "7                              1   4th March 2024       Singapore     False   \n",
       "8                              1   4th March 2024  United Kingdom      True   \n",
       "9                              3   2nd March 2024  United Kingdom      True   \n",
       "\n",
       "                                              corpus  \n",
       "0  boarding difficult caused vast majority passen...  \n",
       "1  boarding started delay minute everybody could ...  \n",
       "2  absolutely horrible customer service never fly...  \n",
       "3  verified ba used much like onboard crew check ...  \n",
       "4  ba first even best business class sky cabin lo...  \n",
       "5  worst business class experience ground crew si...  \n",
       "6  verified quite possibly worst business class e...  \n",
       "7  verified never flying ba first last flying sin...  \n",
       "8  trip mexico city opportunity experience ba lon...  \n",
       "9  upgraded check club europe seat excellent expe...  "
      ]
     },
     "execution_count": 112,
     "metadata": {},
     "output_type": "execute_result"
    }
   ],
   "source": [
    "# To check the top 5 rows in the dataframe\n",
    "\n",
    "df.head(10)"
   ]
  },
  {
   "cell_type": "code",
   "execution_count": 113,
   "metadata": {},
   "outputs": [],
   "source": [
    "# To delete the usused column\n",
    "df.drop(\"Unnamed: 0\", axis=1, inplace=True)"
   ]
  },
  {
   "cell_type": "code",
   "execution_count": 114,
   "metadata": {},
   "outputs": [
    {
     "data": {
      "text/html": [
       "<div>\n",
       "<style scoped>\n",
       "    .dataframe tbody tr th:only-of-type {\n",
       "        vertical-align: middle;\n",
       "    }\n",
       "\n",
       "    .dataframe tbody tr th {\n",
       "        vertical-align: top;\n",
       "    }\n",
       "\n",
       "    .dataframe thead th {\n",
       "        text-align: right;\n",
       "    }\n",
       "</style>\n",
       "<table border=\"1\" class=\"dataframe\">\n",
       "  <thead>\n",
       "    <tr style=\"text-align: right;\">\n",
       "      <th></th>\n",
       "      <th>reviews</th>\n",
       "      <th>star</th>\n",
       "      <th>date</th>\n",
       "      <th>country</th>\n",
       "      <th>verified</th>\n",
       "      <th>corpus</th>\n",
       "    </tr>\n",
       "  </thead>\n",
       "  <tbody>\n",
       "    <tr>\n",
       "      <th>0</th>\n",
       "      <td>✅ Trip Verified |  Boarding was difficult caus...</td>\n",
       "      <td>\\n\\t\\t\\t\\t\\t\\t\\t\\t\\t\\t\\t\\t\\t5</td>\n",
       "      <td>14th March 2024</td>\n",
       "      <td>Belgium</td>\n",
       "      <td>True</td>\n",
       "      <td>boarding difficult caused vast majority passen...</td>\n",
       "    </tr>\n",
       "    <tr>\n",
       "      <th>1</th>\n",
       "      <td>✅ Trip Verified |  Boarding started with a del...</td>\n",
       "      <td>7</td>\n",
       "      <td>14th March 2024</td>\n",
       "      <td>Belgium</td>\n",
       "      <td>True</td>\n",
       "      <td>boarding started delay minute everybody could ...</td>\n",
       "    </tr>\n",
       "    <tr>\n",
       "      <th>2</th>\n",
       "      <td>✅ Trip Verified |  Absolutely horrible custome...</td>\n",
       "      <td>3</td>\n",
       "      <td>12th March 2024</td>\n",
       "      <td>Canada</td>\n",
       "      <td>True</td>\n",
       "      <td>absolutely horrible customer service never fly...</td>\n",
       "    </tr>\n",
       "    <tr>\n",
       "      <th>3</th>\n",
       "      <td>Not Verified |  BA is not what it used to be! ...</td>\n",
       "      <td>1</td>\n",
       "      <td>11th March 2024</td>\n",
       "      <td>Denmark</td>\n",
       "      <td>False</td>\n",
       "      <td>verified ba used much like onboard crew check ...</td>\n",
       "    </tr>\n",
       "    <tr>\n",
       "      <th>4</th>\n",
       "      <td>✅ Trip Verified |  BA First, it's not even the...</td>\n",
       "      <td>7</td>\n",
       "      <td>10th March 2024</td>\n",
       "      <td>United Kingdom</td>\n",
       "      <td>True</td>\n",
       "      <td>ba first even best business class sky cabin lo...</td>\n",
       "    </tr>\n",
       "  </tbody>\n",
       "</table>\n",
       "</div>"
      ],
      "text/plain": [
       "                                             reviews  \\\n",
       "0  ✅ Trip Verified |  Boarding was difficult caus...   \n",
       "1  ✅ Trip Verified |  Boarding started with a del...   \n",
       "2  ✅ Trip Verified |  Absolutely horrible custome...   \n",
       "3  Not Verified |  BA is not what it used to be! ...   \n",
       "4  ✅ Trip Verified |  BA First, it's not even the...   \n",
       "\n",
       "                            star             date         country  verified  \\\n",
       "0  \\n\\t\\t\\t\\t\\t\\t\\t\\t\\t\\t\\t\\t\\t5  14th March 2024         Belgium      True   \n",
       "1                              7  14th March 2024         Belgium      True   \n",
       "2                              3  12th March 2024          Canada      True   \n",
       "3                              1  11th March 2024         Denmark     False   \n",
       "4                              7  10th March 2024  United Kingdom      True   \n",
       "\n",
       "                                              corpus  \n",
       "0  boarding difficult caused vast majority passen...  \n",
       "1  boarding started delay minute everybody could ...  \n",
       "2  absolutely horrible customer service never fly...  \n",
       "3  verified ba used much like onboard crew check ...  \n",
       "4  ba first even best business class sky cabin lo...  "
      ]
     },
     "execution_count": 114,
     "metadata": {},
     "output_type": "execute_result"
    }
   ],
   "source": [
    "# To check top 5 rows\n",
    "df.head()"
   ]
  },
  {
   "cell_type": "markdown",
   "metadata": {},
   "source": [
    "**_Cleaning the Format Date_**\n"
   ]
  },
  {
   "cell_type": "code",
   "execution_count": 115,
   "metadata": {},
   "outputs": [
    {
     "data": {
      "text/plain": [
       "reviews     object\n",
       "star        object\n",
       "date        object\n",
       "country     object\n",
       "verified      bool\n",
       "corpus      object\n",
       "dtype: object"
      ]
     },
     "execution_count": 115,
     "metadata": {},
     "output_type": "execute_result"
    }
   ],
   "source": [
    "df.dtypes"
   ]
  },
  {
   "cell_type": "code",
   "execution_count": 116,
   "metadata": {},
   "outputs": [],
   "source": [
    "# Convert date to datetime formate\n",
    "\n",
    "df.date = pd.to_datetime(df.date)"
   ]
  },
  {
   "cell_type": "code",
   "execution_count": 117,
   "metadata": {},
   "outputs": [
    {
     "data": {
      "text/html": [
       "<div>\n",
       "<style scoped>\n",
       "    .dataframe tbody tr th:only-of-type {\n",
       "        vertical-align: middle;\n",
       "    }\n",
       "\n",
       "    .dataframe tbody tr th {\n",
       "        vertical-align: top;\n",
       "    }\n",
       "\n",
       "    .dataframe thead th {\n",
       "        text-align: right;\n",
       "    }\n",
       "</style>\n",
       "<table border=\"1\" class=\"dataframe\">\n",
       "  <thead>\n",
       "    <tr style=\"text-align: right;\">\n",
       "      <th></th>\n",
       "      <th>reviews</th>\n",
       "      <th>star</th>\n",
       "      <th>date</th>\n",
       "      <th>country</th>\n",
       "      <th>verified</th>\n",
       "      <th>corpus</th>\n",
       "    </tr>\n",
       "  </thead>\n",
       "  <tbody>\n",
       "    <tr>\n",
       "      <th>0</th>\n",
       "      <td>✅ Trip Verified |  Boarding was difficult caus...</td>\n",
       "      <td>\\n\\t\\t\\t\\t\\t\\t\\t\\t\\t\\t\\t\\t\\t5</td>\n",
       "      <td>2024-03-14</td>\n",
       "      <td>Belgium</td>\n",
       "      <td>True</td>\n",
       "      <td>boarding difficult caused vast majority passen...</td>\n",
       "    </tr>\n",
       "    <tr>\n",
       "      <th>1</th>\n",
       "      <td>✅ Trip Verified |  Boarding started with a del...</td>\n",
       "      <td>7</td>\n",
       "      <td>2024-03-14</td>\n",
       "      <td>Belgium</td>\n",
       "      <td>True</td>\n",
       "      <td>boarding started delay minute everybody could ...</td>\n",
       "    </tr>\n",
       "    <tr>\n",
       "      <th>2</th>\n",
       "      <td>✅ Trip Verified |  Absolutely horrible custome...</td>\n",
       "      <td>3</td>\n",
       "      <td>2024-03-12</td>\n",
       "      <td>Canada</td>\n",
       "      <td>True</td>\n",
       "      <td>absolutely horrible customer service never fly...</td>\n",
       "    </tr>\n",
       "    <tr>\n",
       "      <th>3</th>\n",
       "      <td>Not Verified |  BA is not what it used to be! ...</td>\n",
       "      <td>1</td>\n",
       "      <td>2024-03-11</td>\n",
       "      <td>Denmark</td>\n",
       "      <td>False</td>\n",
       "      <td>verified ba used much like onboard crew check ...</td>\n",
       "    </tr>\n",
       "    <tr>\n",
       "      <th>4</th>\n",
       "      <td>✅ Trip Verified |  BA First, it's not even the...</td>\n",
       "      <td>7</td>\n",
       "      <td>2024-03-10</td>\n",
       "      <td>United Kingdom</td>\n",
       "      <td>True</td>\n",
       "      <td>ba first even best business class sky cabin lo...</td>\n",
       "    </tr>\n",
       "  </tbody>\n",
       "</table>\n",
       "</div>"
      ],
      "text/plain": [
       "                                             reviews  \\\n",
       "0  ✅ Trip Verified |  Boarding was difficult caus...   \n",
       "1  ✅ Trip Verified |  Boarding started with a del...   \n",
       "2  ✅ Trip Verified |  Absolutely horrible custome...   \n",
       "3  Not Verified |  BA is not what it used to be! ...   \n",
       "4  ✅ Trip Verified |  BA First, it's not even the...   \n",
       "\n",
       "                            star       date         country  verified  \\\n",
       "0  \\n\\t\\t\\t\\t\\t\\t\\t\\t\\t\\t\\t\\t\\t5 2024-03-14         Belgium      True   \n",
       "1                              7 2024-03-14         Belgium      True   \n",
       "2                              3 2024-03-12          Canada      True   \n",
       "3                              1 2024-03-11         Denmark     False   \n",
       "4                              7 2024-03-10  United Kingdom      True   \n",
       "\n",
       "                                              corpus  \n",
       "0  boarding difficult caused vast majority passen...  \n",
       "1  boarding started delay minute everybody could ...  \n",
       "2  absolutely horrible customer service never fly...  \n",
       "3  verified ba used much like onboard crew check ...  \n",
       "4  ba first even best business class sky cabin lo...  "
      ]
     },
     "execution_count": 117,
     "metadata": {},
     "output_type": "execute_result"
    }
   ],
   "source": [
    "# To check the 5 rows in the dateframe\n",
    "df.head()"
   ]
  },
  {
   "cell_type": "markdown",
   "metadata": {},
   "source": [
    "**_Cleaning the Rating with Star_**\n"
   ]
  },
  {
   "cell_type": "code",
   "execution_count": 118,
   "metadata": {},
   "outputs": [
    {
     "data": {
      "text/plain": [
       "array(['\\n\\t\\t\\t\\t\\t\\t\\t\\t\\t\\t\\t\\t\\t5', '7', '3', '1', '10', '2', '5',\n",
       "       '8', '6', '9', '4', 'None'], dtype=object)"
      ]
     },
     "execution_count": 118,
     "metadata": {},
     "output_type": "execute_result"
    }
   ],
   "source": [
    "# to check the unique value\n",
    "df.star.unique()"
   ]
  },
  {
   "cell_type": "code",
   "execution_count": 119,
   "metadata": {},
   "outputs": [],
   "source": [
    "# TO remove the \\n,\\t in from the star\n",
    "\n",
    "df.star = df.star.str.strip(\"\\n\\t\\t\\t\\t\\t\\t\\t\\t\\t\\t\\t\\t\\t\")"
   ]
  },
  {
   "cell_type": "code",
   "execution_count": 120,
   "metadata": {},
   "outputs": [
    {
     "data": {
      "text/plain": [
       "1       857\n",
       "3       403\n",
       "2       403\n",
       "8       340\n",
       "10      285\n",
       "7       274\n",
       "9       273\n",
       "5       247\n",
       "4       237\n",
       "6       178\n",
       "None      3\n",
       "Name: star, dtype: int64"
      ]
     },
     "execution_count": 120,
     "metadata": {},
     "output_type": "execute_result"
    }
   ],
   "source": [
    "# to check the rating with star\n",
    "df.star.value_counts()"
   ]
  },
  {
   "cell_type": "markdown",
   "metadata": {},
   "source": [
    "By using the value_count it show 3 value is \"None\" type. we will drop these 3 None value.\n"
   ]
  },
  {
   "cell_type": "code",
   "execution_count": 121,
   "metadata": {},
   "outputs": [],
   "source": [
    "# Droping the None Value from the star rating\n",
    "\n",
    "df.drop(df[df.star == \"None\"].index, axis=0, inplace=True)"
   ]
  },
  {
   "cell_type": "code",
   "execution_count": 122,
   "metadata": {},
   "outputs": [
    {
     "data": {
      "text/plain": [
       "array(['5', '7', '3', '1', '10', '2', '8', '6', '9', '4'], dtype=object)"
      ]
     },
     "execution_count": 122,
     "metadata": {},
     "output_type": "execute_result"
    }
   ],
   "source": [
    "# Check the unique value again\n",
    "\n",
    "df.star.unique()"
   ]
  },
  {
   "cell_type": "code",
   "execution_count": 123,
   "metadata": {},
   "outputs": [
    {
     "data": {
      "text/html": [
       "<div>\n",
       "<style scoped>\n",
       "    .dataframe tbody tr th:only-of-type {\n",
       "        vertical-align: middle;\n",
       "    }\n",
       "\n",
       "    .dataframe tbody tr th {\n",
       "        vertical-align: top;\n",
       "    }\n",
       "\n",
       "    .dataframe thead th {\n",
       "        text-align: right;\n",
       "    }\n",
       "</style>\n",
       "<table border=\"1\" class=\"dataframe\">\n",
       "  <thead>\n",
       "    <tr style=\"text-align: right;\">\n",
       "      <th></th>\n",
       "      <th>reviews</th>\n",
       "      <th>star</th>\n",
       "      <th>date</th>\n",
       "      <th>country</th>\n",
       "      <th>verified</th>\n",
       "      <th>corpus</th>\n",
       "    </tr>\n",
       "  </thead>\n",
       "  <tbody>\n",
       "    <tr>\n",
       "      <th>0</th>\n",
       "      <td>✅ Trip Verified |  Boarding was difficult caus...</td>\n",
       "      <td>5</td>\n",
       "      <td>2024-03-14</td>\n",
       "      <td>Belgium</td>\n",
       "      <td>True</td>\n",
       "      <td>boarding difficult caused vast majority passen...</td>\n",
       "    </tr>\n",
       "    <tr>\n",
       "      <th>1</th>\n",
       "      <td>✅ Trip Verified |  Boarding started with a del...</td>\n",
       "      <td>7</td>\n",
       "      <td>2024-03-14</td>\n",
       "      <td>Belgium</td>\n",
       "      <td>True</td>\n",
       "      <td>boarding started delay minute everybody could ...</td>\n",
       "    </tr>\n",
       "    <tr>\n",
       "      <th>2</th>\n",
       "      <td>✅ Trip Verified |  Absolutely horrible custome...</td>\n",
       "      <td>3</td>\n",
       "      <td>2024-03-12</td>\n",
       "      <td>Canada</td>\n",
       "      <td>True</td>\n",
       "      <td>absolutely horrible customer service never fly...</td>\n",
       "    </tr>\n",
       "    <tr>\n",
       "      <th>3</th>\n",
       "      <td>Not Verified |  BA is not what it used to be! ...</td>\n",
       "      <td>1</td>\n",
       "      <td>2024-03-11</td>\n",
       "      <td>Denmark</td>\n",
       "      <td>False</td>\n",
       "      <td>verified ba used much like onboard crew check ...</td>\n",
       "    </tr>\n",
       "    <tr>\n",
       "      <th>4</th>\n",
       "      <td>✅ Trip Verified |  BA First, it's not even the...</td>\n",
       "      <td>7</td>\n",
       "      <td>2024-03-10</td>\n",
       "      <td>United Kingdom</td>\n",
       "      <td>True</td>\n",
       "      <td>ba first even best business class sky cabin lo...</td>\n",
       "    </tr>\n",
       "  </tbody>\n",
       "</table>\n",
       "</div>"
      ],
      "text/plain": [
       "                                             reviews star       date  \\\n",
       "0  ✅ Trip Verified |  Boarding was difficult caus...    5 2024-03-14   \n",
       "1  ✅ Trip Verified |  Boarding started with a del...    7 2024-03-14   \n",
       "2  ✅ Trip Verified |  Absolutely horrible custome...    3 2024-03-12   \n",
       "3  Not Verified |  BA is not what it used to be! ...    1 2024-03-11   \n",
       "4  ✅ Trip Verified |  BA First, it's not even the...    7 2024-03-10   \n",
       "\n",
       "          country  verified                                             corpus  \n",
       "0         Belgium      True  boarding difficult caused vast majority passen...  \n",
       "1         Belgium      True  boarding started delay minute everybody could ...  \n",
       "2          Canada      True  absolutely horrible customer service never fly...  \n",
       "3         Denmark     False  verified ba used much like onboard crew check ...  \n",
       "4  United Kingdom      True  ba first even best business class sky cabin lo...  "
      ]
     },
     "execution_count": 123,
     "metadata": {},
     "output_type": "execute_result"
    }
   ],
   "source": [
    "df.head()"
   ]
  },
  {
   "cell_type": "markdown",
   "metadata": {},
   "source": [
    "**_Checking the Null Values_**\n"
   ]
  },
  {
   "cell_type": "code",
   "execution_count": 124,
   "metadata": {},
   "outputs": [
    {
     "data": {
      "text/plain": [
       "reviews  star   date   country  verified  corpus\n",
       "False    False  False  False    False     False     3495\n",
       "                       True     False     False        2\n",
       "dtype: int64"
      ]
     },
     "execution_count": 124,
     "metadata": {},
     "output_type": "execute_result"
    }
   ],
   "source": [
    "# Checking the null value in the dataframe\n",
    "\n",
    "df.isnull().value_counts()"
   ]
  },
  {
   "cell_type": "code",
   "execution_count": 125,
   "metadata": {},
   "outputs": [
    {
     "data": {
      "text/plain": [
       "False    3495\n",
       "True        2\n",
       "Name: country, dtype: int64"
      ]
     },
     "execution_count": 125,
     "metadata": {},
     "output_type": "execute_result"
    }
   ],
   "source": [
    "# Checking the null value in the specific column of dataframe\n",
    "df.country.isnull().value_counts()"
   ]
  },
  {
   "cell_type": "markdown",
   "metadata": {},
   "source": [
    "We can see the 2 value is missing in the country column.For this we can just remove those two reviews (rows) from the dataframe.\n"
   ]
  },
  {
   "cell_type": "code",
   "execution_count": 126,
   "metadata": {},
   "outputs": [],
   "source": [
    "# Drop the rows using index where the country value is null\n",
    "df.drop(df[df.country.isnull() == True].index, axis=0, inplace=True)"
   ]
  },
  {
   "cell_type": "code",
   "execution_count": 127,
   "metadata": {},
   "outputs": [
    {
     "data": {
      "text/plain": [
       "reviews  star   date   country  verified  corpus\n",
       "False    False  False  False    False     False     3495\n",
       "dtype: int64"
      ]
     },
     "execution_count": 127,
     "metadata": {},
     "output_type": "execute_result"
    }
   ],
   "source": [
    "# Checking the null value in the dataframe\n",
    "\n",
    "df.isnull().value_counts()"
   ]
  },
  {
   "cell_type": "code",
   "execution_count": 128,
   "metadata": {},
   "outputs": [
    {
     "data": {
      "text/plain": [
       "(3495, 6)"
      ]
     },
     "execution_count": 128,
     "metadata": {},
     "output_type": "execute_result"
    }
   ],
   "source": [
    "df.shape"
   ]
  },
  {
   "cell_type": "code",
   "execution_count": 129,
   "metadata": {},
   "outputs": [
    {
     "data": {
      "text/html": [
       "<div>\n",
       "<style scoped>\n",
       "    .dataframe tbody tr th:only-of-type {\n",
       "        vertical-align: middle;\n",
       "    }\n",
       "\n",
       "    .dataframe tbody tr th {\n",
       "        vertical-align: top;\n",
       "    }\n",
       "\n",
       "    .dataframe thead th {\n",
       "        text-align: right;\n",
       "    }\n",
       "</style>\n",
       "<table border=\"1\" class=\"dataframe\">\n",
       "  <thead>\n",
       "    <tr style=\"text-align: right;\">\n",
       "      <th></th>\n",
       "      <th>reviews</th>\n",
       "      <th>star</th>\n",
       "      <th>date</th>\n",
       "      <th>country</th>\n",
       "      <th>verified</th>\n",
       "      <th>corpus</th>\n",
       "    </tr>\n",
       "  </thead>\n",
       "  <tbody>\n",
       "    <tr>\n",
       "      <th>0</th>\n",
       "      <td>✅ Trip Verified |  Boarding was difficult caus...</td>\n",
       "      <td>5</td>\n",
       "      <td>2024-03-14</td>\n",
       "      <td>Belgium</td>\n",
       "      <td>True</td>\n",
       "      <td>boarding difficult caused vast majority passen...</td>\n",
       "    </tr>\n",
       "    <tr>\n",
       "      <th>1</th>\n",
       "      <td>✅ Trip Verified |  Boarding started with a del...</td>\n",
       "      <td>7</td>\n",
       "      <td>2024-03-14</td>\n",
       "      <td>Belgium</td>\n",
       "      <td>True</td>\n",
       "      <td>boarding started delay minute everybody could ...</td>\n",
       "    </tr>\n",
       "    <tr>\n",
       "      <th>2</th>\n",
       "      <td>✅ Trip Verified |  Absolutely horrible custome...</td>\n",
       "      <td>3</td>\n",
       "      <td>2024-03-12</td>\n",
       "      <td>Canada</td>\n",
       "      <td>True</td>\n",
       "      <td>absolutely horrible customer service never fly...</td>\n",
       "    </tr>\n",
       "    <tr>\n",
       "      <th>3</th>\n",
       "      <td>Not Verified |  BA is not what it used to be! ...</td>\n",
       "      <td>1</td>\n",
       "      <td>2024-03-11</td>\n",
       "      <td>Denmark</td>\n",
       "      <td>False</td>\n",
       "      <td>verified ba used much like onboard crew check ...</td>\n",
       "    </tr>\n",
       "    <tr>\n",
       "      <th>4</th>\n",
       "      <td>✅ Trip Verified |  BA First, it's not even the...</td>\n",
       "      <td>7</td>\n",
       "      <td>2024-03-10</td>\n",
       "      <td>United Kingdom</td>\n",
       "      <td>True</td>\n",
       "      <td>ba first even best business class sky cabin lo...</td>\n",
       "    </tr>\n",
       "    <tr>\n",
       "      <th>...</th>\n",
       "      <td>...</td>\n",
       "      <td>...</td>\n",
       "      <td>...</td>\n",
       "      <td>...</td>\n",
       "      <td>...</td>\n",
       "      <td>...</td>\n",
       "    </tr>\n",
       "    <tr>\n",
       "      <th>3490</th>\n",
       "      <td>LGW-MCO-SEA-LHR. Seats booked during Club Worl...</td>\n",
       "      <td>8</td>\n",
       "      <td>2014-09-17</td>\n",
       "      <td>United Kingdom</td>\n",
       "      <td>False</td>\n",
       "      <td>lgw mco sea lhr seat booked club world sale wi...</td>\n",
       "    </tr>\n",
       "    <tr>\n",
       "      <th>3491</th>\n",
       "      <td>I have flown LHR-BKK many times with EVA Emira...</td>\n",
       "      <td>1</td>\n",
       "      <td>2014-09-17</td>\n",
       "      <td>South Africa</td>\n",
       "      <td>False</td>\n",
       "      <td>flown lhr bkk many time eva emirate oman qatar...</td>\n",
       "    </tr>\n",
       "    <tr>\n",
       "      <th>3492</th>\n",
       "      <td>LHR-EDI Used Avios to make short break to Edin...</td>\n",
       "      <td>6</td>\n",
       "      <td>2014-09-14</td>\n",
       "      <td>United Kingdom</td>\n",
       "      <td>False</td>\n",
       "      <td>lhr edi used avios make short break edinburgh ...</td>\n",
       "    </tr>\n",
       "    <tr>\n",
       "      <th>3493</th>\n",
       "      <td>Flew VIE to LHR Club Europe fantastic crew loo...</td>\n",
       "      <td>8</td>\n",
       "      <td>2014-09-14</td>\n",
       "      <td>United Kingdom</td>\n",
       "      <td>False</td>\n",
       "      <td>flew vie lhr club europe fantastic crew lookin...</td>\n",
       "    </tr>\n",
       "    <tr>\n",
       "      <th>3494</th>\n",
       "      <td>First and last time flying with BA upgraded th...</td>\n",
       "      <td>7</td>\n",
       "      <td>2014-09-14</td>\n",
       "      <td>United Kingdom</td>\n",
       "      <td>False</td>\n",
       "      <td>first last time flying ba upgraded u premium e...</td>\n",
       "    </tr>\n",
       "  </tbody>\n",
       "</table>\n",
       "<p>3495 rows × 6 columns</p>\n",
       "</div>"
      ],
      "text/plain": [
       "                                                reviews star       date  \\\n",
       "0     ✅ Trip Verified |  Boarding was difficult caus...    5 2024-03-14   \n",
       "1     ✅ Trip Verified |  Boarding started with a del...    7 2024-03-14   \n",
       "2     ✅ Trip Verified |  Absolutely horrible custome...    3 2024-03-12   \n",
       "3     Not Verified |  BA is not what it used to be! ...    1 2024-03-11   \n",
       "4     ✅ Trip Verified |  BA First, it's not even the...    7 2024-03-10   \n",
       "...                                                 ...  ...        ...   \n",
       "3490  LGW-MCO-SEA-LHR. Seats booked during Club Worl...    8 2014-09-17   \n",
       "3491  I have flown LHR-BKK many times with EVA Emira...    1 2014-09-17   \n",
       "3492  LHR-EDI Used Avios to make short break to Edin...    6 2014-09-14   \n",
       "3493  Flew VIE to LHR Club Europe fantastic crew loo...    8 2014-09-14   \n",
       "3494  First and last time flying with BA upgraded th...    7 2014-09-14   \n",
       "\n",
       "             country  verified  \\\n",
       "0            Belgium      True   \n",
       "1            Belgium      True   \n",
       "2             Canada      True   \n",
       "3            Denmark     False   \n",
       "4     United Kingdom      True   \n",
       "...              ...       ...   \n",
       "3490  United Kingdom     False   \n",
       "3491    South Africa     False   \n",
       "3492  United Kingdom     False   \n",
       "3493  United Kingdom     False   \n",
       "3494  United Kingdom     False   \n",
       "\n",
       "                                                 corpus  \n",
       "0     boarding difficult caused vast majority passen...  \n",
       "1     boarding started delay minute everybody could ...  \n",
       "2     absolutely horrible customer service never fly...  \n",
       "3     verified ba used much like onboard crew check ...  \n",
       "4     ba first even best business class sky cabin lo...  \n",
       "...                                                 ...  \n",
       "3490  lgw mco sea lhr seat booked club world sale wi...  \n",
       "3491  flown lhr bkk many time eva emirate oman qatar...  \n",
       "3492  lhr edi used avios make short break edinburgh ...  \n",
       "3493  flew vie lhr club europe fantastic crew lookin...  \n",
       "3494  first last time flying ba upgraded u premium e...  \n",
       "\n",
       "[3495 rows x 6 columns]"
      ]
     },
     "execution_count": 129,
     "metadata": {},
     "output_type": "execute_result"
    }
   ],
   "source": [
    "# Resetting the index\n",
    "df.reset_index(drop=True)"
   ]
  },
  {
   "cell_type": "markdown",
   "metadata": {},
   "source": [
    "Now the data is cleaned we can perform data visualization and data analysis.\n"
   ]
  },
  {
   "cell_type": "code",
   "execution_count": 130,
   "metadata": {},
   "outputs": [],
   "source": [
    "# export the cleaned data\n",
    "cwd = os.getcwd()\n",
    "df.to_csv(cwd + \"/cleaned-BA-reviews.csv\")"
   ]
  },
  {
   "cell_type": "code",
   "execution_count": null,
   "metadata": {},
   "outputs": [],
   "source": []
  }
 ],
 "metadata": {
  "kernelspec": {
   "display_name": "base",
   "language": "python",
   "name": "python3"
  },
  "language_info": {
   "codemirror_mode": {
    "name": "ipython",
    "version": 3
   },
   "file_extension": ".py",
   "mimetype": "text/x-python",
   "name": "python",
   "nbconvert_exporter": "python",
   "pygments_lexer": "ipython3",
   "version": "3.9.13"
  }
 },
 "nbformat": 4,
 "nbformat_minor": 2
}
